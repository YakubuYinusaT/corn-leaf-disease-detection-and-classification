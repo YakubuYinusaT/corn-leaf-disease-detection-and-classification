{
  "cells": [
    {
      "cell_type": "markdown",
      "metadata": {
        "id": "view-in-github",
        "colab_type": "text"
      },
      "source": [
        "<a href=\"https://colab.research.google.com/github/YakubuYinusaT/corn-leaf-disease-detection-and-classification/blob/main/maize_laef_disease.ipynb\" target=\"_parent\"><img src=\"https://colab.research.google.com/assets/colab-badge.svg\" alt=\"Open In Colab\"/></a>"
      ]
    },
    {
      "cell_type": "code",
      "execution_count": 4,
      "metadata": {
        "colab": {
          "base_uri": "https://localhost:8080/",
          "height": 625
        },
        "id": "ifO1DnKoebrS",
        "outputId": "26596fe2-df5f-4c02-8720-ca118fa85325"
      },
      "outputs": [
        {
          "output_type": "stream",
          "name": "stdout",
          "text": [
            "Setting queue=True in a Colab notebook requires sharing enabled. Setting `share=True` (you can turn this off by setting `share=False` in `launch()` explicitly).\n",
            "\n",
            "Colab notebook detected. To show errors in colab notebook, set debug=True in launch()\n",
            "Running on public URL: https://20d19ba565521e3803.gradio.live\n",
            "\n",
            "This share link expires in 72 hours. For free permanent hosting and GPU upgrades, run `gradio deploy` from Terminal to deploy to Spaces (https://huggingface.co/spaces)\n"
          ]
        },
        {
          "output_type": "display_data",
          "data": {
            "text/plain": [
              "<IPython.core.display.HTML object>"
            ],
            "text/html": [
              "<div><iframe src=\"https://20d19ba565521e3803.gradio.live\" width=\"100%\" height=\"500\" allow=\"autoplay; camera; microphone; clipboard-read; clipboard-write;\" frameborder=\"0\" allowfullscreen></iframe></div>"
            ]
          },
          "metadata": {}
        },
        {
          "output_type": "execute_result",
          "data": {
            "text/plain": []
          },
          "metadata": {},
          "execution_count": 4
        }
      ],
      "source": [
        "\n",
        "\n",
        "# Load your trained model (make sure to adjust the path if needed)\n",
        "model = tf.keras.models.load_model('/content/maize-leaf-disease-model.h5', compile=False)\n",
        "# Set compile to False to avoid loading the optimizer\n",
        "\n",
        "# Now compile the model with an appropriate optimizer\n",
        "model.compile(optimizer='adam', loss='categorical_crossentropy', metrics=['accuracy'])\n",
        "\n",
        "# Class names for the diseases\n",
        "class_names = [\"Corn Northern Leaf Blight\", \"Corn Healthy\", \"Corn Gray Leaf Spot\", \"Corn Common Rust\"]\n",
        "\n",
        "# Define the function to process and predict the image\n",
        "def predict_maize_disease(img):\n",
        "    img = img.resize((256, 256))  # Resize the image to match model input size\n",
        "    img_array = np.array(img) / 255.0  # Normalize the image\n",
        "    img_array = np.expand_dims(img_array, axis=0)  # Add batch dimension\n",
        "\n",
        "    predictions = model.predict(img_array)\n",
        "    predicted_class = class_names[np.argmax(predictions)]\n",
        "    confidence = np.max(predictions)\n",
        "\n",
        "    return predicted_class, confidence\n",
        "\n",
        "# Gradio interface\n",
        "def classify_image(image):\n",
        "    disease, confidence = predict_maize_disease(image)\n",
        "\n",
        "    # Create an output image with the prediction and confidence\n",
        "    fig, ax = plt.subplots()\n",
        "    ax.imshow(image)\n",
        "    ax.axis('off')\n",
        "    ax.set_title(f\"{disease} ({confidence*100:.2f}%)\", fontsize=16, color='blue')\n",
        "\n",
        "    # Convert the figure to an image\n",
        "    buf = io.BytesIO()\n",
        "    plt.savefig(buf, format='png')\n",
        "    buf.seek(0)\n",
        "    img_with_prediction = Image.open(buf)\n",
        "\n",
        "    return img_with_prediction, disease, confidence\n",
        "\n",
        "# Set up the Gradio interface\n",
        "# Use gr.Image for input instead of gr.inputs.Image\n",
        "interface = gr.Interface(\n",
        "    fn=classify_image,\n",
        "    inputs=gr.Image(type=\"pil\"),  # Change here\n",
        "    outputs=[\n",
        "        gr.Image(type=\"pil\", label=\"Disease Prediction\"),\n",
        "        gr.Textbox(label=\"Disease Name\"),\n",
        "        gr.Textbox(label=\"Confidence\")\n",
        "    ],\n",
        "    title=\"Maize Disease Classification\",\n",
        "    description=\"Upload an image of a maize leaf to classify the type of disease.\"\n",
        ")\n",
        "\n",
        "# Launch the Gradio interface\n",
        "interface.launch()"
      ]
    },
    {
      "cell_type": "code",
      "execution_count": null,
      "metadata": {
        "id": "wGpLVc4hvKS5"
      },
      "outputs": [],
      "source": [
        "#interface.launch(share=True)"
      ]
    }
  ],
  "metadata": {
    "colab": {
      "provenance": [],
      "include_colab_link": true
    },
    "kernelspec": {
      "display_name": "Python 3",
      "name": "python3"
    },
    "language_info": {
      "name": "python"
    }
  },
  "nbformat": 4,
  "nbformat_minor": 0
}